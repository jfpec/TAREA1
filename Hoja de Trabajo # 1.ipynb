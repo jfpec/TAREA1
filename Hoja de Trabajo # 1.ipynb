{
 "cells": [
  {
   "cell_type": "markdown",
   "metadata": {},
   "source": [
    "Control de versiones GIT\n",
    "========\n"
   ]
  },
  {
   "cell_type": "markdown",
   "metadata": {},
   "source": [
    "Los sistemas de control de versiones se utilizan para realizar un seguimiento de los cambios en el código fuente (u otras colecciones de archivos y carpetas). Estas ayudan a mantener un historial de cambios; además, facilitan la colaboración de diversos miembros de un equipo.\n",
    "\n",
    "Rastrean los cambios en una carpeta y su contenido en una serie de instantáneas, donde cada instantánea engloba todo el estado de los archivos / carpetas dentro de un directorio de nivel superior, también mantienen metadatos como quién creó cada instantánea, mensajes asociados con cada instantánea, etc.\n",
    "\n",
    "Su importancia radica en disponer de todas las versiones de un archivo a lo largo del tiempo, ademas de presentar la rarón de ciertos cambios, asi tambien trabajar ramas paralelas de desarrollo.\n",
    "\n",
    "Cuando se trabaja en grupo, es una herramienta invaluable para ver lo que otras personas han cambiado, así como para resolver conflictos en el desarrollo concurrente.\n"
   ]
  },
  {
   "cell_type": "code",
   "execution_count": null,
   "metadata": {},
   "outputs": [],
   "source": [
    "from IPython.display import Image\n",
    "from IPython.core.display import HTML \n",
    "Image(url= \"https://smutch.github.io/VersionControlTutorial/_images/vc-xkcd.jpg\")"
   ]
  },
  {
   "cell_type": "code",
   "execution_count": null,
   "metadata": {},
   "outputs": [],
   "source": []
  }
 ],
 "metadata": {
  "kernelspec": {
   "display_name": "Python 3",
   "language": "python",
   "name": "python3"
  },
  "language_info": {
   "codemirror_mode": {
    "name": "ipython",
    "version": 3
   },
   "file_extension": ".py",
   "mimetype": "text/x-python",
   "name": "python",
   "nbconvert_exporter": "python",
   "pygments_lexer": "ipython3",
   "version": "3.6.10"
  }
 },
 "nbformat": 4,
 "nbformat_minor": 4
}
